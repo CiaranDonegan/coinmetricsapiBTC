{
  "nbformat": 4,
  "nbformat_minor": 0,
  "metadata": {
    "colab": {
      "provenance": [],
      "collapsed_sections": [],
      "toc_visible": true,
      "authorship_tag": "ABX9TyPGd7LY59w/oMl3Xma6wSCo",
      "include_colab_link": true
    },
    "kernelspec": {
      "name": "python3",
      "display_name": "Python 3"
    },
    "language_info": {
      "name": "python"
    }
  },
  "cells": [
    {
      "cell_type": "markdown",
      "metadata": {
        "id": "view-in-github",
        "colab_type": "text"
      },
      "source": [
        "<a href=\"https://colab.research.google.com/github/CiaranDonegan/coinmetricsapiBTC/blob/main/Untitled0.ipynb\" target=\"_parent\"><img src=\"https://colab.research.google.com/assets/colab-badge.svg\" alt=\"Open In Colab\"/></a>"
      ]
    },
    {
      "cell_type": "code",
      "execution_count": 14,
      "metadata": {
        "colab": {
          "base_uri": "https://localhost:8080/"
        },
        "id": "F9QUHkPKxwH1",
        "outputId": "d7fbf27b-ed7e-46be-8bef-5afbc5c57350"
      },
      "outputs": [
        {
          "output_type": "stream",
          "name": "stdout",
          "text": [
            "Looking in indexes: https://pypi.org/simple, https://us-python.pkg.dev/colab-wheels/public/simple/\n",
            "Requirement already satisfied: coinmetrics.api_client in /usr/local/lib/python3.7/dist-packages (2022.10.18.7)\n",
            "Requirement already satisfied: websocket-client<2.0.0,>=1.2.1 in /usr/local/lib/python3.7/dist-packages (from coinmetrics.api_client) (1.4.1)\n",
            "Requirement already satisfied: python-dateutil<3.0.0,>=2.8.2 in /usr/local/lib/python3.7/dist-packages (from coinmetrics.api_client) (2.8.2)\n",
            "Requirement already satisfied: typer<0.7.0,>=0.6.1 in /usr/local/lib/python3.7/dist-packages (from coinmetrics.api_client) (0.6.1)\n",
            "Requirement already satisfied: orjson<4.0.0,>=3.6.0 in /usr/local/lib/python3.7/dist-packages (from coinmetrics.api_client) (3.8.1)\n",
            "Requirement already satisfied: requests<3.0.0,>=2.24.0 in /usr/local/lib/python3.7/dist-packages (from coinmetrics.api_client) (2.28.1)\n",
            "Requirement already satisfied: six>=1.5 in /usr/local/lib/python3.7/dist-packages (from python-dateutil<3.0.0,>=2.8.2->coinmetrics.api_client) (1.15.0)\n",
            "Requirement already satisfied: charset-normalizer<3,>=2 in /usr/local/lib/python3.7/dist-packages (from requests<3.0.0,>=2.24.0->coinmetrics.api_client) (2.1.1)\n",
            "Requirement already satisfied: urllib3<1.27,>=1.21.1 in /usr/local/lib/python3.7/dist-packages (from requests<3.0.0,>=2.24.0->coinmetrics.api_client) (1.24.3)\n",
            "Requirement already satisfied: idna<4,>=2.5 in /usr/local/lib/python3.7/dist-packages (from requests<3.0.0,>=2.24.0->coinmetrics.api_client) (2.10)\n",
            "Requirement already satisfied: certifi>=2017.4.17 in /usr/local/lib/python3.7/dist-packages (from requests<3.0.0,>=2.24.0->coinmetrics.api_client) (2022.9.24)\n",
            "Requirement already satisfied: click<9.0.0,>=7.1.1 in /usr/local/lib/python3.7/dist-packages (from typer<0.7.0,>=0.6.1->coinmetrics.api_client) (7.1.2)\n"
          ]
        }
      ],
      "source": [
        "!pip install coinmetrics.api_client"
      ]
    },
    {
      "cell_type": "code",
      "source": [
        "from coinmetrics.api_client import CoinMetricsClient\n",
        "\n",
        "client = CoinMetricsClient()\n",
        "\n",
        "print(client)"
      ],
      "metadata": {
        "colab": {
          "base_uri": "https://localhost:8080/"
        },
        "id": "ehoj4Xv3yX_n",
        "outputId": "4c25fc8f-1946-4a9c-b12e-ef8b83f0303c"
      },
      "execution_count": 15,
      "outputs": [
        {
          "output_type": "stream",
          "name": "stdout",
          "text": [
            "<coinmetrics.api_client.CoinMetricsClient object at 0x7fa41d155610>\n"
          ]
        }
      ]
    },
    {
      "cell_type": "markdown",
      "source": [],
      "metadata": {
        "id": "fKe2Gn4T00U_"
      }
    },
    {
      "cell_type": "code",
      "source": [
        "metrics = client.get_asset_metrics(assets = 'btc',\n",
        "                                  metrics = [\n",
        "                                      'PriceUSD',\n",
        "                                      'AdrActCnt',\n",
        "                                      'CapMrktCurUSD',\n",
        "                                      'CapMVRVCur',\n",
        "                                      'NVTAdj',\n",
        "                                      'VelCur1yr',\n",
        "                                      'TxCnt',\n",
        "                                      'TxTfrValAdjUSD',\n",
        "                                      'SplyCur',\n",
        "                                      'HashRate'\n",
        "                                  ],\n",
        "                                  start_time='2018-01-01',\n",
        "                                  end_time='2022-01-01',\n",
        "                                  frequency='1d')\n"
      ],
      "metadata": {
        "id": "lunKEVJ6yuwe"
      },
      "execution_count": 16,
      "outputs": []
    },
    {
      "cell_type": "code",
      "source": [
        "print(metrics)"
      ],
      "metadata": {
        "colab": {
          "base_uri": "https://localhost:8080/"
        },
        "id": "hSzHg_cm02Vm",
        "outputId": "f44afaba-8598-4caa-f93d-b928a94f26a7"
      },
      "execution_count": 17,
      "outputs": [
        {
          "output_type": "stream",
          "name": "stdout",
          "text": [
            "<coinmetrics._data_collection.DataCollection object at 0x7fa41d0fe410>\n"
          ]
        }
      ]
    },
    {
      "cell_type": "code",
      "source": [
        "import pandas\n",
        "\n",
        "metrics = pandas.DataFrame(metrics)\n",
        "\n",
        "metrics.head()"
      ],
      "metadata": {
        "colab": {
          "base_uri": "https://localhost:8080/",
          "height": 250
        },
        "id": "ouWX7t1e26qa",
        "outputId": "c2279334-e4c1-4220-882a-60f7c1e599f9"
      },
      "execution_count": 18,
      "outputs": [
        {
          "output_type": "execute_result",
          "data": {
            "text/plain": [
              "  asset  ...         VelCur1yr\n",
              "0   btc  ...  37.9844065049478\n",
              "1   btc  ...  38.0019339244505\n",
              "2   btc  ...   37.983199878225\n",
              "3   btc  ...  37.9655404773754\n",
              "4   btc  ...  37.9288752436187\n",
              "\n",
              "[5 rows x 12 columns]"
            ],
            "text/html": [
              "\n",
              "  <div id=\"df-dd7925ef-906a-4f45-85fc-d912d43f91a7\">\n",
              "    <div class=\"colab-df-container\">\n",
              "      <div>\n",
              "<style scoped>\n",
              "    .dataframe tbody tr th:only-of-type {\n",
              "        vertical-align: middle;\n",
              "    }\n",
              "\n",
              "    .dataframe tbody tr th {\n",
              "        vertical-align: top;\n",
              "    }\n",
              "\n",
              "    .dataframe thead th {\n",
              "        text-align: right;\n",
              "    }\n",
              "</style>\n",
              "<table border=\"1\" class=\"dataframe\">\n",
              "  <thead>\n",
              "    <tr style=\"text-align: right;\">\n",
              "      <th></th>\n",
              "      <th>asset</th>\n",
              "      <th>time</th>\n",
              "      <th>AdrActCnt</th>\n",
              "      <th>CapMVRVCur</th>\n",
              "      <th>CapMrktCurUSD</th>\n",
              "      <th>HashRate</th>\n",
              "      <th>NVTAdj</th>\n",
              "      <th>PriceUSD</th>\n",
              "      <th>SplyCur</th>\n",
              "      <th>TxCnt</th>\n",
              "      <th>TxTfrValAdjUSD</th>\n",
              "      <th>VelCur1yr</th>\n",
              "    </tr>\n",
              "  </thead>\n",
              "  <tbody>\n",
              "    <tr>\n",
              "      <th>0</th>\n",
              "      <td>btc</td>\n",
              "      <td>2018-01-01T00:00:00.000000000Z</td>\n",
              "      <td>972783</td>\n",
              "      <td>2.69423548</td>\n",
              "      <td>225887722580.948558563658214246</td>\n",
              "      <td>14923655.7184224</td>\n",
              "      <td>49.91509162</td>\n",
              "      <td>13464.6536116306</td>\n",
              "      <td>16776348.58618491</td>\n",
              "      <td>241625</td>\n",
              "      <td>4525439405.811560897843177708</td>\n",
              "      <td>37.9844065049478</td>\n",
              "    </tr>\n",
              "    <tr>\n",
              "      <th>1</th>\n",
              "      <td>btc</td>\n",
              "      <td>2018-01-02T00:00:00.000000000Z</td>\n",
              "      <td>1142721</td>\n",
              "      <td>2.92544313</td>\n",
              "      <td>247555189825.1814193788629499</td>\n",
              "      <td>16415540.6673567</td>\n",
              "      <td>41.63040382</td>\n",
              "      <td>14754.322204851</td>\n",
              "      <td>16778486.0861849</td>\n",
              "      <td>343664</td>\n",
              "      <td>5946499844.12464534636336797</td>\n",
              "      <td>38.0019339244505</td>\n",
              "    </tr>\n",
              "    <tr>\n",
              "      <th>2</th>\n",
              "      <td>btc</td>\n",
              "      <td>2018-01-03T00:00:00.000000000Z</td>\n",
              "      <td>1130917</td>\n",
              "      <td>2.96026687</td>\n",
              "      <td>251879335164.348596203277476304</td>\n",
              "      <td>15071578.273538</td>\n",
              "      <td>44.70739876</td>\n",
              "      <td>15010.2861595558</td>\n",
              "      <td>16780448.58618488</td>\n",
              "      <td>396942</td>\n",
              "      <td>5633951922.355870434052208124</td>\n",
              "      <td>37.983199878225</td>\n",
              "    </tr>\n",
              "    <tr>\n",
              "      <th>3</th>\n",
              "      <td>btc</td>\n",
              "      <td>2018-01-04T00:00:00.000000000Z</td>\n",
              "      <td>1253986</td>\n",
              "      <td>2.94402195</td>\n",
              "      <td>252918055361.861462796338311188</td>\n",
              "      <td>16127548.7258241</td>\n",
              "      <td>34.29180194</td>\n",
              "      <td>15070.3007986558</td>\n",
              "      <td>16782548.58618486</td>\n",
              "      <td>424762</td>\n",
              "      <td>7375467052.299311542338463204</td>\n",
              "      <td>37.9655404773754</td>\n",
              "    </tr>\n",
              "    <tr>\n",
              "      <th>4</th>\n",
              "      <td>btc</td>\n",
              "      <td>2018-01-05T00:00:00.000000000Z</td>\n",
              "      <td>1069525</td>\n",
              "      <td>3.26196426</td>\n",
              "      <td>285287177348.308949806708857774</td>\n",
              "      <td>13727615.8797194</td>\n",
              "      <td>32.28714867</td>\n",
              "      <td>16997.2274079486</td>\n",
              "      <td>16784336.08618409</td>\n",
              "      <td>339441</td>\n",
              "      <td>8835935940.634569630489584244</td>\n",
              "      <td>37.9288752436187</td>\n",
              "    </tr>\n",
              "  </tbody>\n",
              "</table>\n",
              "</div>\n",
              "      <button class=\"colab-df-convert\" onclick=\"convertToInteractive('df-dd7925ef-906a-4f45-85fc-d912d43f91a7')\"\n",
              "              title=\"Convert this dataframe to an interactive table.\"\n",
              "              style=\"display:none;\">\n",
              "        \n",
              "  <svg xmlns=\"http://www.w3.org/2000/svg\" height=\"24px\"viewBox=\"0 0 24 24\"\n",
              "       width=\"24px\">\n",
              "    <path d=\"M0 0h24v24H0V0z\" fill=\"none\"/>\n",
              "    <path d=\"M18.56 5.44l.94 2.06.94-2.06 2.06-.94-2.06-.94-.94-2.06-.94 2.06-2.06.94zm-11 1L8.5 8.5l.94-2.06 2.06-.94-2.06-.94L8.5 2.5l-.94 2.06-2.06.94zm10 10l.94 2.06.94-2.06 2.06-.94-2.06-.94-.94-2.06-.94 2.06-2.06.94z\"/><path d=\"M17.41 7.96l-1.37-1.37c-.4-.4-.92-.59-1.43-.59-.52 0-1.04.2-1.43.59L10.3 9.45l-7.72 7.72c-.78.78-.78 2.05 0 2.83L4 21.41c.39.39.9.59 1.41.59.51 0 1.02-.2 1.41-.59l7.78-7.78 2.81-2.81c.8-.78.8-2.07 0-2.86zM5.41 20L4 18.59l7.72-7.72 1.47 1.35L5.41 20z\"/>\n",
              "  </svg>\n",
              "      </button>\n",
              "      \n",
              "  <style>\n",
              "    .colab-df-container {\n",
              "      display:flex;\n",
              "      flex-wrap:wrap;\n",
              "      gap: 12px;\n",
              "    }\n",
              "\n",
              "    .colab-df-convert {\n",
              "      background-color: #E8F0FE;\n",
              "      border: none;\n",
              "      border-radius: 50%;\n",
              "      cursor: pointer;\n",
              "      display: none;\n",
              "      fill: #1967D2;\n",
              "      height: 32px;\n",
              "      padding: 0 0 0 0;\n",
              "      width: 32px;\n",
              "    }\n",
              "\n",
              "    .colab-df-convert:hover {\n",
              "      background-color: #E2EBFA;\n",
              "      box-shadow: 0px 1px 2px rgba(60, 64, 67, 0.3), 0px 1px 3px 1px rgba(60, 64, 67, 0.15);\n",
              "      fill: #174EA6;\n",
              "    }\n",
              "\n",
              "    [theme=dark] .colab-df-convert {\n",
              "      background-color: #3B4455;\n",
              "      fill: #D2E3FC;\n",
              "    }\n",
              "\n",
              "    [theme=dark] .colab-df-convert:hover {\n",
              "      background-color: #434B5C;\n",
              "      box-shadow: 0px 1px 3px 1px rgba(0, 0, 0, 0.15);\n",
              "      filter: drop-shadow(0px 1px 2px rgba(0, 0, 0, 0.3));\n",
              "      fill: #FFFFFF;\n",
              "    }\n",
              "  </style>\n",
              "\n",
              "      <script>\n",
              "        const buttonEl =\n",
              "          document.querySelector('#df-dd7925ef-906a-4f45-85fc-d912d43f91a7 button.colab-df-convert');\n",
              "        buttonEl.style.display =\n",
              "          google.colab.kernel.accessAllowed ? 'block' : 'none';\n",
              "\n",
              "        async function convertToInteractive(key) {\n",
              "          const element = document.querySelector('#df-dd7925ef-906a-4f45-85fc-d912d43f91a7');\n",
              "          const dataTable =\n",
              "            await google.colab.kernel.invokeFunction('convertToInteractive',\n",
              "                                                     [key], {});\n",
              "          if (!dataTable) return;\n",
              "\n",
              "          const docLinkHtml = 'Like what you see? Visit the ' +\n",
              "            '<a target=\"_blank\" href=https://colab.research.google.com/notebooks/data_table.ipynb>data table notebook</a>'\n",
              "            + ' to learn more about interactive tables.';\n",
              "          element.innerHTML = '';\n",
              "          dataTable['output_type'] = 'display_data';\n",
              "          await google.colab.output.renderOutput(dataTable, element);\n",
              "          const docLink = document.createElement('div');\n",
              "          docLink.innerHTML = docLinkHtml;\n",
              "          element.appendChild(docLink);\n",
              "        }\n",
              "      </script>\n",
              "    </div>\n",
              "  </div>\n",
              "  "
            ]
          },
          "metadata": {},
          "execution_count": 18
        }
      ]
    },
    {
      "cell_type": "code",
      "source": [
        "metrics['time'] = pandas.to_datetime(metrics['time'])"
      ],
      "metadata": {
        "id": "6nP4n_ue74t5"
      },
      "execution_count": 19,
      "outputs": []
    },
    {
      "cell_type": "code",
      "source": [
        "metrics = metrics.set_index('time')\n",
        "\n",
        "metrics.head()"
      ],
      "metadata": {
        "colab": {
          "base_uri": "https://localhost:8080/",
          "height": 237
        },
        "id": "ZB4lExoe8gFU",
        "outputId": "ff6dfe04-0be8-44d3-fe74-a2754b62590f"
      },
      "execution_count": 21,
      "outputs": [
        {
          "output_type": "execute_result",
          "data": {
            "text/plain": [
              "                          asset  ...         VelCur1yr\n",
              "time                             ...                  \n",
              "2018-01-01 00:00:00+00:00   btc  ...  37.9844065049478\n",
              "2018-01-02 00:00:00+00:00   btc  ...  38.0019339244505\n",
              "2018-01-03 00:00:00+00:00   btc  ...   37.983199878225\n",
              "2018-01-04 00:00:00+00:00   btc  ...  37.9655404773754\n",
              "2018-01-05 00:00:00+00:00   btc  ...  37.9288752436187\n",
              "\n",
              "[5 rows x 11 columns]"
            ],
            "text/html": [
              "\n",
              "  <div id=\"df-e4afade0-e8b0-43a0-abfb-a5a0d21ecfec\">\n",
              "    <div class=\"colab-df-container\">\n",
              "      <div>\n",
              "<style scoped>\n",
              "    .dataframe tbody tr th:only-of-type {\n",
              "        vertical-align: middle;\n",
              "    }\n",
              "\n",
              "    .dataframe tbody tr th {\n",
              "        vertical-align: top;\n",
              "    }\n",
              "\n",
              "    .dataframe thead th {\n",
              "        text-align: right;\n",
              "    }\n",
              "</style>\n",
              "<table border=\"1\" class=\"dataframe\">\n",
              "  <thead>\n",
              "    <tr style=\"text-align: right;\">\n",
              "      <th></th>\n",
              "      <th>asset</th>\n",
              "      <th>AdrActCnt</th>\n",
              "      <th>CapMVRVCur</th>\n",
              "      <th>CapMrktCurUSD</th>\n",
              "      <th>HashRate</th>\n",
              "      <th>NVTAdj</th>\n",
              "      <th>PriceUSD</th>\n",
              "      <th>SplyCur</th>\n",
              "      <th>TxCnt</th>\n",
              "      <th>TxTfrValAdjUSD</th>\n",
              "      <th>VelCur1yr</th>\n",
              "    </tr>\n",
              "    <tr>\n",
              "      <th>time</th>\n",
              "      <th></th>\n",
              "      <th></th>\n",
              "      <th></th>\n",
              "      <th></th>\n",
              "      <th></th>\n",
              "      <th></th>\n",
              "      <th></th>\n",
              "      <th></th>\n",
              "      <th></th>\n",
              "      <th></th>\n",
              "      <th></th>\n",
              "    </tr>\n",
              "  </thead>\n",
              "  <tbody>\n",
              "    <tr>\n",
              "      <th>2018-01-01 00:00:00+00:00</th>\n",
              "      <td>btc</td>\n",
              "      <td>972783</td>\n",
              "      <td>2.69423548</td>\n",
              "      <td>225887722580.948558563658214246</td>\n",
              "      <td>14923655.7184224</td>\n",
              "      <td>49.91509162</td>\n",
              "      <td>13464.6536116306</td>\n",
              "      <td>16776348.58618491</td>\n",
              "      <td>241625</td>\n",
              "      <td>4525439405.811560897843177708</td>\n",
              "      <td>37.9844065049478</td>\n",
              "    </tr>\n",
              "    <tr>\n",
              "      <th>2018-01-02 00:00:00+00:00</th>\n",
              "      <td>btc</td>\n",
              "      <td>1142721</td>\n",
              "      <td>2.92544313</td>\n",
              "      <td>247555189825.1814193788629499</td>\n",
              "      <td>16415540.6673567</td>\n",
              "      <td>41.63040382</td>\n",
              "      <td>14754.322204851</td>\n",
              "      <td>16778486.0861849</td>\n",
              "      <td>343664</td>\n",
              "      <td>5946499844.12464534636336797</td>\n",
              "      <td>38.0019339244505</td>\n",
              "    </tr>\n",
              "    <tr>\n",
              "      <th>2018-01-03 00:00:00+00:00</th>\n",
              "      <td>btc</td>\n",
              "      <td>1130917</td>\n",
              "      <td>2.96026687</td>\n",
              "      <td>251879335164.348596203277476304</td>\n",
              "      <td>15071578.273538</td>\n",
              "      <td>44.70739876</td>\n",
              "      <td>15010.2861595558</td>\n",
              "      <td>16780448.58618488</td>\n",
              "      <td>396942</td>\n",
              "      <td>5633951922.355870434052208124</td>\n",
              "      <td>37.983199878225</td>\n",
              "    </tr>\n",
              "    <tr>\n",
              "      <th>2018-01-04 00:00:00+00:00</th>\n",
              "      <td>btc</td>\n",
              "      <td>1253986</td>\n",
              "      <td>2.94402195</td>\n",
              "      <td>252918055361.861462796338311188</td>\n",
              "      <td>16127548.7258241</td>\n",
              "      <td>34.29180194</td>\n",
              "      <td>15070.3007986558</td>\n",
              "      <td>16782548.58618486</td>\n",
              "      <td>424762</td>\n",
              "      <td>7375467052.299311542338463204</td>\n",
              "      <td>37.9655404773754</td>\n",
              "    </tr>\n",
              "    <tr>\n",
              "      <th>2018-01-05 00:00:00+00:00</th>\n",
              "      <td>btc</td>\n",
              "      <td>1069525</td>\n",
              "      <td>3.26196426</td>\n",
              "      <td>285287177348.308949806708857774</td>\n",
              "      <td>13727615.8797194</td>\n",
              "      <td>32.28714867</td>\n",
              "      <td>16997.2274079486</td>\n",
              "      <td>16784336.08618409</td>\n",
              "      <td>339441</td>\n",
              "      <td>8835935940.634569630489584244</td>\n",
              "      <td>37.9288752436187</td>\n",
              "    </tr>\n",
              "  </tbody>\n",
              "</table>\n",
              "</div>\n",
              "      <button class=\"colab-df-convert\" onclick=\"convertToInteractive('df-e4afade0-e8b0-43a0-abfb-a5a0d21ecfec')\"\n",
              "              title=\"Convert this dataframe to an interactive table.\"\n",
              "              style=\"display:none;\">\n",
              "        \n",
              "  <svg xmlns=\"http://www.w3.org/2000/svg\" height=\"24px\"viewBox=\"0 0 24 24\"\n",
              "       width=\"24px\">\n",
              "    <path d=\"M0 0h24v24H0V0z\" fill=\"none\"/>\n",
              "    <path d=\"M18.56 5.44l.94 2.06.94-2.06 2.06-.94-2.06-.94-.94-2.06-.94 2.06-2.06.94zm-11 1L8.5 8.5l.94-2.06 2.06-.94-2.06-.94L8.5 2.5l-.94 2.06-2.06.94zm10 10l.94 2.06.94-2.06 2.06-.94-2.06-.94-.94-2.06-.94 2.06-2.06.94z\"/><path d=\"M17.41 7.96l-1.37-1.37c-.4-.4-.92-.59-1.43-.59-.52 0-1.04.2-1.43.59L10.3 9.45l-7.72 7.72c-.78.78-.78 2.05 0 2.83L4 21.41c.39.39.9.59 1.41.59.51 0 1.02-.2 1.41-.59l7.78-7.78 2.81-2.81c.8-.78.8-2.07 0-2.86zM5.41 20L4 18.59l7.72-7.72 1.47 1.35L5.41 20z\"/>\n",
              "  </svg>\n",
              "      </button>\n",
              "      \n",
              "  <style>\n",
              "    .colab-df-container {\n",
              "      display:flex;\n",
              "      flex-wrap:wrap;\n",
              "      gap: 12px;\n",
              "    }\n",
              "\n",
              "    .colab-df-convert {\n",
              "      background-color: #E8F0FE;\n",
              "      border: none;\n",
              "      border-radius: 50%;\n",
              "      cursor: pointer;\n",
              "      display: none;\n",
              "      fill: #1967D2;\n",
              "      height: 32px;\n",
              "      padding: 0 0 0 0;\n",
              "      width: 32px;\n",
              "    }\n",
              "\n",
              "    .colab-df-convert:hover {\n",
              "      background-color: #E2EBFA;\n",
              "      box-shadow: 0px 1px 2px rgba(60, 64, 67, 0.3), 0px 1px 3px 1px rgba(60, 64, 67, 0.15);\n",
              "      fill: #174EA6;\n",
              "    }\n",
              "\n",
              "    [theme=dark] .colab-df-convert {\n",
              "      background-color: #3B4455;\n",
              "      fill: #D2E3FC;\n",
              "    }\n",
              "\n",
              "    [theme=dark] .colab-df-convert:hover {\n",
              "      background-color: #434B5C;\n",
              "      box-shadow: 0px 1px 3px 1px rgba(0, 0, 0, 0.15);\n",
              "      filter: drop-shadow(0px 1px 2px rgba(0, 0, 0, 0.3));\n",
              "      fill: #FFFFFF;\n",
              "    }\n",
              "  </style>\n",
              "\n",
              "      <script>\n",
              "        const buttonEl =\n",
              "          document.querySelector('#df-e4afade0-e8b0-43a0-abfb-a5a0d21ecfec button.colab-df-convert');\n",
              "        buttonEl.style.display =\n",
              "          google.colab.kernel.accessAllowed ? 'block' : 'none';\n",
              "\n",
              "        async function convertToInteractive(key) {\n",
              "          const element = document.querySelector('#df-e4afade0-e8b0-43a0-abfb-a5a0d21ecfec');\n",
              "          const dataTable =\n",
              "            await google.colab.kernel.invokeFunction('convertToInteractive',\n",
              "                                                     [key], {});\n",
              "          if (!dataTable) return;\n",
              "\n",
              "          const docLinkHtml = 'Like what you see? Visit the ' +\n",
              "            '<a target=\"_blank\" href=https://colab.research.google.com/notebooks/data_table.ipynb>data table notebook</a>'\n",
              "            + ' to learn more about interactive tables.';\n",
              "          element.innerHTML = '';\n",
              "          dataTable['output_type'] = 'display_data';\n",
              "          await google.colab.output.renderOutput(dataTable, element);\n",
              "          const docLink = document.createElement('div');\n",
              "          docLink.innerHTML = docLinkHtml;\n",
              "          element.appendChild(docLink);\n",
              "        }\n",
              "      </script>\n",
              "    </div>\n",
              "  </div>\n",
              "  "
            ]
          },
          "metadata": {},
          "execution_count": 21
        }
      ]
    },
    {
      "cell_type": "code",
      "source": [
        "metrics.to_csv('metrics.csv')"
      ],
      "metadata": {
        "id": "rjJLzeG9AyGN"
      },
      "execution_count": 22,
      "outputs": []
    },
    {
      "cell_type": "code",
      "source": [
        "metrics.info()"
      ],
      "metadata": {
        "colab": {
          "base_uri": "https://localhost:8080/"
        },
        "id": "NktSzc_9CiQ_",
        "outputId": "d5094471-9a3f-4185-dba7-408d8fc51a55"
      },
      "execution_count": 23,
      "outputs": [
        {
          "output_type": "stream",
          "name": "stdout",
          "text": [
            "<class 'pandas.core.frame.DataFrame'>\n",
            "DatetimeIndex: 1462 entries, 2018-01-01 00:00:00+00:00 to 2022-01-01 00:00:00+00:00\n",
            "Data columns (total 11 columns):\n",
            " #   Column          Non-Null Count  Dtype \n",
            "---  ------          --------------  ----- \n",
            " 0   asset           1462 non-null   object\n",
            " 1   AdrActCnt       1462 non-null   object\n",
            " 2   CapMVRVCur      1462 non-null   object\n",
            " 3   CapMrktCurUSD   1462 non-null   object\n",
            " 4   HashRate        1462 non-null   object\n",
            " 5   NVTAdj          1462 non-null   object\n",
            " 6   PriceUSD        1462 non-null   object\n",
            " 7   SplyCur         1462 non-null   object\n",
            " 8   TxCnt           1462 non-null   object\n",
            " 9   TxTfrValAdjUSD  1462 non-null   object\n",
            " 10  VelCur1yr       1462 non-null   object\n",
            "dtypes: object(11)\n",
            "memory usage: 137.1+ KB\n"
          ]
        }
      ]
    },
    {
      "cell_type": "code",
      "source": [
        "metrics = metrics[[\n",
        "                   'PriceUSD',\n",
        "                   'CapMrktCurUSD',\n",
        "                   'CapMVRCur',\n",
        "                   'NVTAdj',\n",
        "                   'VelCur1yr',\n",
        "                   'AdrActCnt',\n",
        "                   'TxCnt',\n",
        "                   'TxTfrValAdjUS',\n",
        "]]"
      ],
      "metadata": {
        "colab": {
          "base_uri": "https://localhost:8080/",
          "height": 380
        },
        "id": "x2g4Bd_lCrQn",
        "outputId": "51e99312-ec73-463a-e649-db7160be91c9"
      },
      "execution_count": 26,
      "outputs": [
        {
          "output_type": "error",
          "ename": "KeyError",
          "evalue": "ignored",
          "traceback": [
            "\u001b[0;31m---------------------------------------------------------------------------\u001b[0m",
            "\u001b[0;31mKeyError\u001b[0m                                  Traceback (most recent call last)",
            "\u001b[0;32m<ipython-input-26-b8d95a60217e>\u001b[0m in \u001b[0;36m<module>\u001b[0;34m\u001b[0m\n\u001b[1;32m      7\u001b[0m                    \u001b[0;34m'AdrActCnt'\u001b[0m\u001b[0;34m,\u001b[0m\u001b[0;34m\u001b[0m\u001b[0;34m\u001b[0m\u001b[0m\n\u001b[1;32m      8\u001b[0m                    \u001b[0;34m'TxCnt'\u001b[0m\u001b[0;34m,\u001b[0m\u001b[0;34m\u001b[0m\u001b[0;34m\u001b[0m\u001b[0m\n\u001b[0;32m----> 9\u001b[0;31m                    \u001b[0;34m'TxTfrValAdjUS'\u001b[0m\u001b[0;34m,\u001b[0m\u001b[0;34m\u001b[0m\u001b[0;34m\u001b[0m\u001b[0m\n\u001b[0m\u001b[1;32m     10\u001b[0m ]]\n",
            "\u001b[0;32m/usr/local/lib/python3.7/dist-packages/pandas/core/frame.py\u001b[0m in \u001b[0;36m__getitem__\u001b[0;34m(self, key)\u001b[0m\n\u001b[1;32m   3462\u001b[0m             \u001b[0;32mif\u001b[0m \u001b[0mis_iterator\u001b[0m\u001b[0;34m(\u001b[0m\u001b[0mkey\u001b[0m\u001b[0;34m)\u001b[0m\u001b[0;34m:\u001b[0m\u001b[0;34m\u001b[0m\u001b[0;34m\u001b[0m\u001b[0m\n\u001b[1;32m   3463\u001b[0m                 \u001b[0mkey\u001b[0m \u001b[0;34m=\u001b[0m \u001b[0mlist\u001b[0m\u001b[0;34m(\u001b[0m\u001b[0mkey\u001b[0m\u001b[0;34m)\u001b[0m\u001b[0;34m\u001b[0m\u001b[0;34m\u001b[0m\u001b[0m\n\u001b[0;32m-> 3464\u001b[0;31m             \u001b[0mindexer\u001b[0m \u001b[0;34m=\u001b[0m \u001b[0mself\u001b[0m\u001b[0;34m.\u001b[0m\u001b[0mloc\u001b[0m\u001b[0;34m.\u001b[0m\u001b[0m_get_listlike_indexer\u001b[0m\u001b[0;34m(\u001b[0m\u001b[0mkey\u001b[0m\u001b[0;34m,\u001b[0m \u001b[0maxis\u001b[0m\u001b[0;34m=\u001b[0m\u001b[0;36m1\u001b[0m\u001b[0;34m)\u001b[0m\u001b[0;34m[\u001b[0m\u001b[0;36m1\u001b[0m\u001b[0;34m]\u001b[0m\u001b[0;34m\u001b[0m\u001b[0;34m\u001b[0m\u001b[0m\n\u001b[0m\u001b[1;32m   3465\u001b[0m \u001b[0;34m\u001b[0m\u001b[0m\n\u001b[1;32m   3466\u001b[0m         \u001b[0;31m# take() does not accept boolean indexers\u001b[0m\u001b[0;34m\u001b[0m\u001b[0;34m\u001b[0m\u001b[0;34m\u001b[0m\u001b[0m\n",
            "\u001b[0;32m/usr/local/lib/python3.7/dist-packages/pandas/core/indexing.py\u001b[0m in \u001b[0;36m_get_listlike_indexer\u001b[0;34m(self, key, axis)\u001b[0m\n\u001b[1;32m   1312\u001b[0m             \u001b[0mkeyarr\u001b[0m\u001b[0;34m,\u001b[0m \u001b[0mindexer\u001b[0m\u001b[0;34m,\u001b[0m \u001b[0mnew_indexer\u001b[0m \u001b[0;34m=\u001b[0m \u001b[0max\u001b[0m\u001b[0;34m.\u001b[0m\u001b[0m_reindex_non_unique\u001b[0m\u001b[0;34m(\u001b[0m\u001b[0mkeyarr\u001b[0m\u001b[0;34m)\u001b[0m\u001b[0;34m\u001b[0m\u001b[0;34m\u001b[0m\u001b[0m\n\u001b[1;32m   1313\u001b[0m \u001b[0;34m\u001b[0m\u001b[0m\n\u001b[0;32m-> 1314\u001b[0;31m         \u001b[0mself\u001b[0m\u001b[0;34m.\u001b[0m\u001b[0m_validate_read_indexer\u001b[0m\u001b[0;34m(\u001b[0m\u001b[0mkeyarr\u001b[0m\u001b[0;34m,\u001b[0m \u001b[0mindexer\u001b[0m\u001b[0;34m,\u001b[0m \u001b[0maxis\u001b[0m\u001b[0;34m)\u001b[0m\u001b[0;34m\u001b[0m\u001b[0;34m\u001b[0m\u001b[0m\n\u001b[0m\u001b[1;32m   1315\u001b[0m \u001b[0;34m\u001b[0m\u001b[0m\n\u001b[1;32m   1316\u001b[0m         if needs_i8_conversion(ax.dtype) or isinstance(\n",
            "\u001b[0;32m/usr/local/lib/python3.7/dist-packages/pandas/core/indexing.py\u001b[0m in \u001b[0;36m_validate_read_indexer\u001b[0;34m(self, key, indexer, axis)\u001b[0m\n\u001b[1;32m   1375\u001b[0m \u001b[0;34m\u001b[0m\u001b[0m\n\u001b[1;32m   1376\u001b[0m             \u001b[0mnot_found\u001b[0m \u001b[0;34m=\u001b[0m \u001b[0mlist\u001b[0m\u001b[0;34m(\u001b[0m\u001b[0mensure_index\u001b[0m\u001b[0;34m(\u001b[0m\u001b[0mkey\u001b[0m\u001b[0;34m)\u001b[0m\u001b[0;34m[\u001b[0m\u001b[0mmissing_mask\u001b[0m\u001b[0;34m.\u001b[0m\u001b[0mnonzero\u001b[0m\u001b[0;34m(\u001b[0m\u001b[0;34m)\u001b[0m\u001b[0;34m[\u001b[0m\u001b[0;36m0\u001b[0m\u001b[0;34m]\u001b[0m\u001b[0;34m]\u001b[0m\u001b[0;34m.\u001b[0m\u001b[0munique\u001b[0m\u001b[0;34m(\u001b[0m\u001b[0;34m)\u001b[0m\u001b[0;34m)\u001b[0m\u001b[0;34m\u001b[0m\u001b[0;34m\u001b[0m\u001b[0m\n\u001b[0;32m-> 1377\u001b[0;31m             \u001b[0;32mraise\u001b[0m \u001b[0mKeyError\u001b[0m\u001b[0;34m(\u001b[0m\u001b[0;34mf\"{not_found} not in index\"\u001b[0m\u001b[0;34m)\u001b[0m\u001b[0;34m\u001b[0m\u001b[0;34m\u001b[0m\u001b[0m\n\u001b[0m\u001b[1;32m   1378\u001b[0m \u001b[0;34m\u001b[0m\u001b[0m\n\u001b[1;32m   1379\u001b[0m \u001b[0;34m\u001b[0m\u001b[0m\n",
            "\u001b[0;31mKeyError\u001b[0m: \"['CapMVRCur', 'TxTfrValAdjUS'] not in index\""
          ]
        }
      ]
    }
  ]
}